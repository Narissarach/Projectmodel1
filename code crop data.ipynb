{
  "nbformat": 4,
  "nbformat_minor": 0,
  "metadata": {
    "colab": {
      "provenance": [],
      "include_colab_link": true
    },
    "kernelspec": {
      "name": "python3",
      "display_name": "Python 3"
    },
    "language_info": {
      "name": "python"
    }
  },
  "cells": [
    {
      "cell_type": "markdown",
      "metadata": {
        "id": "view-in-github",
        "colab_type": "text"
      },
      "source": [
        "<a href=\"https://colab.research.google.com/github/Narissarach/Projectmodel1/blob/main/code%20crop%20data.ipynb\" target=\"_parent\"><img src=\"https://colab.research.google.com/assets/colab-badge.svg\" alt=\"Open In Colab\"/></a>"
      ]
    },
    {
      "cell_type": "code",
      "execution_count": 1,
      "metadata": {
        "id": "ziGLFSWJO0Zx"
      },
      "outputs": [],
      "source": [
        "import glob\n",
        "import cv2\n",
        "import matplotlib.pyplot as plt\n",
        "import pathlib\n",
        "import numpy as np \n",
        "import sys"
      ]
    },
    {
      "cell_type": "code",
      "source": [
        "from google.colab import drive # เชื่อม drive ของเรา ถ้าเชื่อมสำเร็จจะขึ้นคำว่าMounted at /content/drive \n",
        "drive.mount('/content/drive')"
      ],
      "metadata": {
        "colab": {
          "base_uri": "https://localhost:8080/"
        },
        "id": "uGdNn1R6L3Rq",
        "outputId": "e372b5e9-19dc-4415-b1af-bf0e24d62f2a"
      },
      "execution_count": 2,
      "outputs": [
        {
          "output_type": "stream",
          "name": "stdout",
          "text": [
            "Drive already mounted at /content/drive; to attempt to forcibly remount, call drive.mount(\"/content/drive\", force_remount=True).\n"
          ]
        }
      ]
    },
    {
      "cell_type": "code",
      "source": [
        "import os # os จัดการเกี่ยวกับไฟล์ต่างๆ ในโฟล์เดอร์\n",
        "path = '/content/drive/My Drive/Projecteye/data'  # ชี้ว่า data เราอยู่โฟล์เดอร์ไหน"
      ],
      "metadata": {
        "id": "uipmJ9auL8l7"
      },
      "execution_count": 3,
      "outputs": []
    },
    {
      "cell_type": "code",
      "source": [
        "data_dir = pathlib.Path('/content/drive/My Drive/Projecteye/data/VKH')"
      ],
      "metadata": {
        "id": "eUwJDYIDMBo9"
      },
      "execution_count": 4,
      "outputs": []
    },
    {
      "cell_type": "code",
      "source": [
        "dir_forsave = os.chdir('/content/drive/My Drive/Projecteye/datacrop/VKH') # สร้าง folder ใหม่"
      ],
      "metadata": {
        "id": "QT8uHC1qMFPz"
      },
      "execution_count": 5,
      "outputs": []
    },
    {
      "cell_type": "code",
      "source": [
        "from PIL import Image\n",
        "\n",
        "filepath = \"/content/drive/My Drive//Projecteye/data/VKH\"\n",
        "\n",
        "# Loop through all provided arguments\n",
        "for filename in os.listdir(filepath):\n",
        "    if \".\" not in filename:\n",
        "        continue\n",
        "    ending = filename.split(\".\")[1]\n",
        "    if ending not in \"png\":\n",
        "        continue\n",
        "\n",
        "    try:\n",
        "        # Attempt to open an image file\n",
        "        image = Image.open(os.path.join(filepath, filename))\n",
        "    except IOError as e:\n",
        "        # Report error, and then skip to the next argument\n",
        "        print ,\"Problem opening\", filepath, \":\", e\n",
        "        continue\n",
        "\n",
        "    # Perform operations on the image here\n",
        "    cropped = image.crop((496, 0, 992, 496))\n",
        "\n",
        "    # Split our origional filename into name and extension \n",
        "    name, extension = os.path.splitext(filename)\n",
        "\n",
        "    print(name + '_cropped.png')\n",
        "    cropped.save(os.path.join(\"/content/drive/My Drive/Projecteye/datacrop/VKH\", name + '_cropped.png'))"
      ],
      "metadata": {
        "colab": {
          "base_uri": "https://localhost:8080/"
        },
        "id": "yyi5FXIzMJB_",
        "outputId": "c6f0771f-8485-4b5b-d98b-e53b23476ca0"
      },
      "execution_count": 6,
      "outputs": [
        {
          "output_type": "stream",
          "name": "stdout",
          "text": [
            "J_S_003_cropped.png\n",
            "GZ7938 RE 04-01-21_000_cropped.png\n",
            "JW3609 21-09-18 LE_002_cropped.png\n",
            "JW3609 21-09-18 RE_000_cropped.png\n",
            "JY3339 01-02-19 LE_002_cropped.png\n",
            "JY3339 04-10-21 LE_000_cropped.png\n",
            "KA2312 11-06-19 LE_000_cropped.png\n",
            "KA2312 11-06-19 RE_000_cropped.png\n",
            "KA2312 11-06-19 LE_000 (2)_cropped.png\n",
            "KA2312 20-06-19 RE_002_cropped.png\n",
            "KB1074 25-09-19 LE_001006_cropped.png\n",
            "KB1074 25-09-19 RE_000_cropped.png\n",
            "KH1486 04-11-20 LE_002_cropped.png\n",
            "KH1486 04-11-20 RE_000_cropped.png\n",
            "KH1486 18-11-20 LE_000_cropped.png\n",
            "KH1486 18-11-20 RE_000_cropped.png\n",
            "KN4858 21-02-22 LE_000_cropped.png\n",
            "KN4858 21-02-22 RE_000_cropped.png\n",
            "KN4858 28-02-22 LE_000_cropped.png\n",
            "KN4858 28-02-22 RE_000_cropped.png\n",
            "EV9935 06-06-16 LE_002006_cropped.png\n",
            "EV9935 06-06-16 RE_000_cropped.png\n",
            "HJ2345 07-05-20 LE_000_cropped.png\n",
            "HJ2345 07-05-20 RE_000_cropped.png\n",
            "HJ2345 20-05-20 RE_000_cropped.png\n",
            "HJ2345 20-05-20 LE_001_cropped.png\n",
            "HJ2345 26-08-20 RE_001006_cropped.png\n",
            "JS2641 24-01-18 LE_001_cropped.png\n",
            "JS2641 07-02-18 LE_000_cropped.png\n",
            "JT2575 23-03-18 LE_002_cropped.png\n",
            "JT2575 23-03-18 RE_001_cropped.png\n",
            "JW3626 21-09-18 LE_002_cropped.png\n",
            "JW3626 21-09-18 RE_000_cropped.png\n",
            "JW3626 03-10-18 LE_000_cropped.png\n",
            "JW3626 03-10-18 RE_000_cropped.png\n",
            "KD5863 21-10-20 RE_000_cropped.png\n",
            "KF0362 01-06-20 LE_000_cropped.png\n",
            "KF0362 01-07-20 LE_001_cropped.png\n",
            "KG1178 26-08-20 LE_001_cropped.png\n",
            "KG1178 23-09-20 LE_002_cropped.png\n",
            "KG1828 17-08-20 RE_000_cropped.png\n",
            "KG1828 31-08-20 RE_000_cropped.png\n",
            "KG1828 31-08-20 LE_002_cropped.png\n",
            "KG1828 30-09-20 LE_000_cropped.png\n",
            "KG1828 30-09-20 RE_000_cropped.png\n",
            "KG5100 15-11-21 LE_000_cropped.png\n",
            "KG5100 23-02-22 LE_000_cropped.png\n",
            "KH7116 14-12-20 LE_000_cropped.png\n",
            "KH7116 14-12-20 RE_000_cropped.png\n",
            "KH7116 23-12-20 LE_000_cropped.png\n",
            "KH7116 23-12-20 RE_000_cropped.png\n",
            "KH7116 23-12-20 RE_001006_cropped.png\n",
            "KH7322 15-12-20 LE_000_cropped.png\n",
            "KH7322 15-12-20 RE_000_cropped.png\n",
            "KH7322 18-12-20 LE_002_cropped.png\n",
            "KH7322 18-12-20 RE_000_cropped.png\n",
            "KI2719 02-02-21 RE_000_cropped.png\n",
            "KI2719 10-02-21 LE_002_cropped.png\n",
            "KI2719 10-02-21 RE_000_cropped.png\n",
            "KI2719 24-02-21 LE_000_cropped.png\n",
            "KI2719 24-02-21 RE_000_cropped.png\n",
            "KI4285 15-02-21 LE_000_cropped.png\n",
            "KI4285 15-02-21 RE_000_cropped.png\n",
            "KI4285 03-03-21 LE_000_cropped.png\n",
            "KI4285 03-03-21 RE_000_cropped.png\n",
            "DQ7866 20-01-20 LE_001_cropped.png\n",
            "DQ7866 20-01-20 RE_000_cropped.png\n",
            "HT4965 27-12-10 LE_001_cropped.png\n",
            "HT4965 27-12-10 RE_000_cropped.png\n",
            "JI5651 31-10-16 LE_000_cropped.png\n",
            "JI5651 31-10-16 RE_000_cropped.png\n",
            "JI5651 01-12-16 RE_000_cropped.png\n",
            "JI5651 15-03-17 LE_001_cropped.png\n",
            "JI5651 15-03-17 RE_000_cropped.png\n",
            "JI5651 14-06-17 LE_000_cropped.png\n",
            "JI5651 18-10-17 RE_000_cropped.png\n",
            "JQ0661 22-09-17 LE_002_cropped.png\n",
            "JQ0661 22-09-17 RE_000_cropped.png\n",
            "JQ0661 09-10-17 LE_000012_cropped.png\n",
            "JQ0661 09-10-17 RE_000_cropped.png\n",
            "KE7683 31-03-20 LE_002_cropped.png\n",
            "KE7683 31-03-20 RE_000_cropped.png\n",
            "HY2225 22-08-11 LE_002_cropped.png\n",
            "HY2225 22-08-11 RE_001_cropped.png\n",
            "JB3794 15-09-15 LE_002_cropped.png\n",
            "JB3794 15-09-15 RE_000_cropped.png\n",
            "JB3794 28-09-15 LE_001_cropped.png\n",
            "JB3794 28-09-15 RE_000_cropped.png\n",
            "JI8353 22-09-16 RE_002_cropped.png\n",
            "JI8353 26-09-16 LE_000006_cropped.png\n",
            "JI8353 26-09-16 RE_000_cropped.png\n",
            "JJ9908 15-11-16 LE_000_cropped.png\n",
            "JJ9908 15-11-16 RE_000_cropped.png\n",
            "JQ2051 02-10-17 LE_000_cropped.png\n",
            "JQ2051 02-10-17 RE_000_cropped.png\n",
            "JQ2051 09-11-17 LE_000_cropped.png\n",
            "JQ2051 09-11-17 RE_002_cropped.png\n",
            "JT2854 26-03-18 LE_001_cropped.png\n",
            "JT2854 26-03-18 RE_000_cropped.png\n",
            "JT2854 09-04-18 LE_002_cropped.png\n",
            "JT2854 09-04-18 RE_000_cropped.png\n",
            "JW8665 05-08-19 RE_000_cropped.png\n",
            "JX9023 07-01-19 LE_001_cropped.png\n",
            "JX9023 07-01-19 RE_000_cropped.png\n",
            "JX9023 15-01-19 LE_000_cropped.png\n",
            "JX9023 15-01-19 LE_000 (2)_cropped.png\n",
            "JX9023 18-02-19 LE_002_cropped.png\n",
            "JX9023 18-02-19 RE_000_cropped.png\n",
            "JY4229 07-02-19 LE_002_cropped.png\n",
            "JY4229 07-02-19 RE_000_cropped.png\n",
            "JY4229 28-02-19 RE_000_cropped.png\n",
            "JY5041 12-02-19 RE_000_cropped.png\n",
            "JZ6832 14-05-19 LE_000_cropped.png\n",
            "KA3249 12-06-19 LE_002_cropped.png\n",
            "KA3249 12-06-19 RE_000_cropped.png\n",
            "KA3249 17-06-19 LE_001_cropped.png\n",
            "KA3249 17-06-19 RE_000_cropped.png\n",
            "KA3305 12-06-19 LE_002_cropped.png\n",
            "KA3305 12-06-19 RE_000_cropped.png\n",
            "KA3347 12-06-19 RE_000_cropped.png\n",
            "KA3347 12-06-19 LE_002_cropped.png\n",
            "KD2238 25-12-19 RE_000_cropped.png\n",
            "IH5042 07-12-12 LE_000_cropped.png\n",
            "IH5042 07-12-12 RE_002_cropped.png\n",
            "JU6446 25-06-18 LE_002_cropped.png\n",
            "JU6446 25-06-18 RE_000_cropped.png\n",
            "JV8853 27-08-18 LE_001_cropped.png\n",
            "JV8853 27-08-18 RE_001_cropped.png\n",
            "JI6242 10-11-16 LE_000_cropped.png\n",
            "ID2431 11-05-12 LE_000_cropped.png\n",
            "IG6113 21-09-15 LE_002_cropped.png\n",
            "IG6113 21-09-15 RE_000_cropped.png\n",
            "IH3187 04-12-12 LE_002_cropped.png\n",
            "IH3187 11-12-12 LE_000_cropped.png\n",
            "IY9905 18-05-15 LE_001006_cropped.png\n",
            "IY9905 18-05-15 RE_000_cropped.png\n",
            "JC4476 01-03-16 LE_000013_cropped.png\n",
            "JC4476 01-03-16 RE_002_cropped.png\n",
            "JD1646 14-12-15 LE_002_cropped.png\n",
            "JD1646 14-12-15 RE_000_cropped.png\n",
            "JE8238 26-03-16 LE_000_cropped.png\n",
            "JE8238 26-03-16 RE_002_cropped.png\n",
            "JF3606 08-04-16 LE_002_cropped.png\n",
            "JF3606 08-04-16 RE_000_cropped.png\n",
            "JF8206 29-04-16 LE_002_cropped.png\n",
            "JF8206 29-04-16 RE_000_cropped.png\n",
            "IV7965 25-11-14 LE_000013_cropped.png\n",
            "IV7965 25-11-14 RE_000003_cropped.png\n",
            "IW1417 15-12-14 LE_002_cropped.png\n",
            "IW1417 15-12-14 RE_000_cropped.png\n",
            "IW5937 19-01-15 LE_002_cropped.png\n",
            "IW5937 19-01-15 RE_000_cropped.png\n",
            "IX7015 13-03-15 LE_002_cropped.png\n",
            "IX7015 13-03-15 RE_000_cropped.png\n",
            "IX7015 13-03-15 RE_001006_cropped.png\n",
            "JA1963 17-07-15 LE_002_cropped.png\n",
            "JA1963 17-07-15 RE_002_cropped.png\n",
            "JA2422 20-07-15 LE_001012_cropped.png\n",
            "JA2422 20-07-15 RE_000013_cropped.png\n",
            "GZ7938 LE 01-12-20_000_cropped.png\n",
            "GZ7938 LE 08-12-20_000_cropped.png\n",
            "GZ7938 LE 22-12-20_000_cropped.png\n",
            "J_S_000_cropped.png\n",
            "GZ7938 RE 01-12-20_000_cropped.png\n",
            "GZ7938 RE 30-11-20_000_cropped.png\n"
          ]
        }
      ]
    },
    {
      "cell_type": "code",
      "source": [
        "[len(os.listdir(dir_forsave))\n",
        "\n",
        ",len(os.listdir(data_dir))]"
      ],
      "metadata": {
        "colab": {
          "base_uri": "https://localhost:8080/"
        },
        "id": "81UcAidwMj1K",
        "outputId": "6cd06198-2f15-46d6-e80b-3a4cc161bede"
      },
      "execution_count": 7,
      "outputs": [
        {
          "output_type": "execute_result",
          "data": {
            "text/plain": [
              "[165, 165]"
            ]
          },
          "metadata": {},
          "execution_count": 7
        }
      ]
    }
  ]
}